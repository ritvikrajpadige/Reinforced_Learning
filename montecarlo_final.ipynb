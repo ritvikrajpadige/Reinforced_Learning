{
 "cells": [
  {
   "cell_type": "code",
   "execution_count": 15,
   "metadata": {},
   "outputs": [],
   "source": [
    "import numpy as np\n",
    "import random"
   ]
  },
  {
   "cell_type": "code",
   "execution_count": 37,
   "metadata": {},
   "outputs": [],
   "source": [
    "g = 1 # gamma discounting rate\n",
    "r_s = -1 #reward size\n",
    "g_s = 4 #grid size\n",
    "t_s = [[0,0], [g_s-1, g_s-1]] #termination states\n",
    "a = [[-1, 0], [1, 0], [0, 1], [0, -1]] #actions\n",
    "iterations = 100 #iterations"
   ]
  },
  {
   "cell_type": "code",
   "execution_count": 38,
   "metadata": {},
   "outputs": [],
   "source": [
    "V = np.zeros((g_s, g_s))\n",
    "r = {(i, j):list() for i in range(g_s) for j in range(g_s)} #rewards\n",
    "deltas = {(i, j):list() for i in range(g_s) for j in range(g_s)}\n",
    "states = [[i, j] for i in range(g_s) for j in range(g_s)]"
   ]
  },
  {
   "cell_type": "code",
   "execution_count": 39,
   "metadata": {},
   "outputs": [],
   "source": [
    "def generateEpisode():\n",
    "    ist = random.choice(states[1:-1])#chocing initial state randomly\n",
    "    episode = []\n",
    "    while True:\n",
    "        if list(ist) in t_s:\n",
    "            return episode\n",
    "        act = random.choice(a)\n",
    "        fs = np.array(ist)+np.array(act)\n",
    "        if -1 in list(fs) or g_s in list(fs):\n",
    "            fs = ist\n",
    "        episode.append([list(ist), act, r_s, list(fs)])\n",
    "        ist = fs"
   ]
  },
  {
   "cell_type": "code",
   "execution_count": 40,
   "metadata": {},
   "outputs": [],
   "source": [
    "for it in range(iterations):\n",
    "    episode = generateEpisode()\n",
    "    G = 0\n",
    "    #print(episode)\n",
    "    for i, step in enumerate(episode[::-1]):\n",
    "        G = g*G + step[2]\n",
    "        if step[0] not in [x[0] for x in episode[::-1][len(episode)-i:]]:\n",
    "            idx = (step[0][0], step[0][1])\n",
    "            r[idx].append(G)\n",
    "            newValue = np.average(r[idx])\n",
    "            deltas[idx[0], idx[1]].append(np.abs(V[idx[0], idx[1]]-newValue))\n",
    "            V[idx[0], idx[1]] = newValue"
   ]
  },
  {
   "cell_type": "code",
   "execution_count": 41,
   "metadata": {},
   "outputs": [
    {
     "data": {
      "text/plain": [
       "array([[  0.        ,  -5.75471698,  -9.90196078, -13.71666667],\n",
       "       [ -2.47368421,  -7.        ,  -7.84444444, -12.40350877],\n",
       "       [ -6.06896552,  -7.59375   ,  -6.825     ,  -6.25490196],\n",
       "       [ -6.95238095,  -7.2       ,  -4.70833333,   0.        ]])"
      ]
     },
     "execution_count": 41,
     "metadata": {},
     "output_type": "execute_result"
    }
   ],
   "source": [
    "V"
   ]
  },
  {
   "cell_type": "code",
   "execution_count": null,
   "metadata": {},
   "outputs": [],
   "source": []
  }
 ],
 "metadata": {
  "kernelspec": {
   "display_name": "Python 3",
   "language": "python",
   "name": "python3"
  },
  "language_info": {
   "codemirror_mode": {
    "name": "ipython",
    "version": 3
   },
   "file_extension": ".py",
   "mimetype": "text/x-python",
   "name": "python",
   "nbconvert_exporter": "python",
   "pygments_lexer": "ipython3",
   "version": "3.7.4"
  }
 },
 "nbformat": 4,
 "nbformat_minor": 2
}
