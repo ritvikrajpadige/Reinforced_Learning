{
 "cells": [
  {
   "cell_type": "code",
   "execution_count": 15,
   "metadata": {},
   "outputs": [],
   "source": [
    "import numpy as np\n",
    "import random"
   ]
  },
  {
   "cell_type": "code",
   "execution_count": 16,
   "metadata": {},
   "outputs": [],
   "source": [
    "g = 1 # gamma discounting rate\n",
    "r_s = -1 #reward size\n",
    "g_s = 4 #grid size\n",
    "t_s = [[0,0], [g_s-1, g_s-1]] #termination states\n",
    "a = [[-1, 0], [1, 0], [0, 1], [0, -1]] #actions\n",
    "i = 100 #iterations"
   ]
  },
  {
   "cell_type": "code",
   "execution_count": 17,
   "metadata": {},
   "outputs": [],
   "source": [
    "def actionRewardFunction(i, a): #i is the intial position and a is action\n",
    "    \n",
    "    if i in t_s:\n",
    "        return i, 0\n",
    "    \n",
    "    r = r_s #reward\n",
    "    f = np.array(i) + np.array(a) #final\n",
    "    if -1 in f or 4 in f: \n",
    "        f = i\n",
    "        \n",
    "    return f, r"
   ]
  },
  {
   "cell_type": "code",
   "execution_count": 18,
   "metadata": {},
   "outputs": [],
   "source": [
    "valuemap = np.zeros((g_s, g_s))\n",
    "states = [[ii, jj] for ii in range(g_s) for jj in range(g_s)]"
   ]
  },
  {
   "cell_type": "code",
   "execution_count": 19,
   "metadata": {},
   "outputs": [
    {
     "data": {
      "text/plain": [
       "array([[0., 0., 0., 0.],\n",
       "       [0., 0., 0., 0.],\n",
       "       [0., 0., 0., 0.],\n",
       "       [0., 0., 0., 0.]])"
      ]
     },
     "execution_count": 19,
     "metadata": {},
     "output_type": "execute_result"
    }
   ],
   "source": [
    "valuemap"
   ]
  },
  {
   "cell_type": "code",
   "execution_count": 20,
   "metadata": {},
   "outputs": [
    {
     "name": "stdout",
     "output_type": "stream",
     "text": [
      "Iteration 1\n",
      "[[ 0. -1. -1. -1.]\n",
      " [-1. -1. -1. -1.]\n",
      " [-1. -1. -1. -1.]\n",
      " [-1. -1. -1.  0.]]\n",
      "\n",
      "Iteration 2\n",
      "[[ 0.   -1.75 -2.   -2.  ]\n",
      " [-1.75 -2.   -2.   -2.  ]\n",
      " [-2.   -2.   -2.   -1.75]\n",
      " [-2.   -2.   -1.75  0.  ]]\n",
      "\n",
      "Iteration 3\n",
      "[[ 0.     -2.4375 -2.9375 -3.    ]\n",
      " [-2.4375 -2.875  -3.     -2.9375]\n",
      " [-2.9375 -3.     -2.875  -2.4375]\n",
      " [-3.     -2.9375 -2.4375  0.    ]]\n",
      "\n",
      "Iteration 10\n",
      "[[ 0.         -6.13796997 -8.35235596 -8.96731567]\n",
      " [-6.13796997 -7.73739624 -8.42782593 -8.35235596]\n",
      " [-8.35235596 -8.42782593 -7.73739624 -6.13796997]\n",
      " [-8.96731567 -8.35235596 -6.13796997  0.        ]]\n",
      "\n",
      "Iteration 100\n",
      "[[  0.         -13.94260509 -19.91495107 -21.90482522]\n",
      " [-13.94260509 -17.92507693 -19.91551999 -19.91495107]\n",
      " [-19.91495107 -19.91551999 -17.92507693 -13.94260509]\n",
      " [-21.90482522 -19.91495107 -13.94260509   0.        ]]\n",
      "\n"
     ]
    }
   ],
   "source": [
    "deltas = []\n",
    "for it in range(i):\n",
    "    cvaluemap = np.copy(valuemap)\n",
    "    dstate = []\n",
    "    for s in states:\n",
    "        w_r = 0 #weighted rewards\n",
    "        for ai in a:\n",
    "            f, r = actionRewardFunction(s, ai)\n",
    "            w_r += (1/len(a))*(r+(g*valuemap[f[0], f[1]]))\n",
    "        dstate.append(np.abs(cvaluemap[s[0], s[1]]-w_r))\n",
    "        cvaluemap[s[0], s[1]] = w_r\n",
    "    deltas.append(dstate)\n",
    "    valuemap = cvaluemap\n",
    "    if it in [0,1,2,9, i-1]:\n",
    "        print(\"Iteration {}\".format(it+1))\n",
    "        print(valuemap)\n",
    "        print(\"\")"
   ]
  },
  {
   "cell_type": "code",
   "execution_count": null,
   "metadata": {},
   "outputs": [],
   "source": []
  }
 ],
 "metadata": {
  "kernelspec": {
   "display_name": "Python 3",
   "language": "python",
   "name": "python3"
  },
  "language_info": {
   "codemirror_mode": {
    "name": "ipython",
    "version": 3
   },
   "file_extension": ".py",
   "mimetype": "text/x-python",
   "name": "python",
   "nbconvert_exporter": "python",
   "pygments_lexer": "ipython3",
   "version": "3.7.4"
  }
 },
 "nbformat": 4,
 "nbformat_minor": 2
}
